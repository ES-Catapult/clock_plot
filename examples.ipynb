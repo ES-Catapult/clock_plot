{
 "cells": [
  {
   "cell_type": "code",
   "execution_count": null,
   "metadata": {},
   "outputs": [],
   "source": [
    "import pandas as pd\n",
    "import numpy as np\n",
    "import os\n",
    "import clock_plot.clock as cp\n",
    "import plotly.express as px\n",
    "import clock_plot\n",
    "import warnings\n",
    "import datetime\n",
    "import os\n",
    "import urllib.request as urllib2\n",
    "import json"
   ]
  },
  {
   "cell_type": "code",
   "execution_count": null,
   "metadata": {},
   "outputs": [],
   "source": [
    "# Suppress warnings as there is a warning coming from plotly using pd.append rather than pd.concat\n",
    "warnings.simplefilter(action='ignore', category=FutureWarning)"
   ]
  },
  {
   "cell_type": "code",
   "execution_count": null,
   "metadata": {},
   "outputs": [],
   "source": [
    "readings_raw = pd.read_csv(os.path.join(clock_plot.CLOCK_PLOT_DIR, \"..\", \"data\", \"eden_2_houseid_324_combined_data.csv\"))\n",
    "readings_raw[\"datetime\"] = pd.to_datetime(readings_raw[\"datetime\"])"
   ]
  },
  {
   "cell_type": "code",
   "execution_count": null,
   "metadata": {},
   "outputs": [],
   "source": [
    "readings = readings_raw.melt( id_vars=[\"datetime\"], value_vars=[\"reading_elec\",\"reading_gas\"])\n",
    "readings.rename(columns={\"variable\":\"fuel\",\"value\":\"reading\"}, inplace=True)\n",
    "readings[\"fuel\"] = readings[\"fuel\"].map({\"reading_elec\":\"elec\",\"reading_gas\":\"gas\"})\n",
    "readings.head()\n"
   ]
  },
  {
   "cell_type": "code",
   "execution_count": null,
   "metadata": {},
   "outputs": [],
   "source": [
    "\n",
    "readings['pre/post intervention'] = 'Pre-intervention'\n",
    "readings.loc[readings['datetime'] >= datetime.datetime(2019,3,16,9), 'pre/post intervention'] = 'Post-intervention'\n",
    "readings.loc[readings['datetime'] >= datetime.datetime(2020,3,1,0), 'pre/post intervention'] = 'HP Only'"
   ]
  },
  {
   "cell_type": "code",
   "execution_count": null,
   "metadata": {},
   "outputs": [],
   "source": [
    "# Plot household gas usage by time of day for colored by season\n",
    "fig = cp.clock_plot(readings, datetime_col='datetime', value_col=f'reading', \n",
    "                    filters={'fuel': 'gas', 'pre/post intervention':'Pre-intervention'}, \n",
    "                    color='season',\n",
    "                    title_start='Seasonal usage')"
   ]
  },
  {
   "cell_type": "code",
   "execution_count": null,
   "metadata": {},
   "outputs": [],
   "source": [
    "# Plot household gas usage by time of day, colored by month\n",
    "# From this we can see that months of the same season are have similar usage.\n",
    "# and months of different season have quite different usage\n",
    "fig = cp.clock_plot(readings, datetime_col='datetime', value_col=f'reading', \n",
    "                    filters={'fuel': 'gas', \n",
    "                            'pre/post intervention':'Pre-intervention', \n",
    "                            'season':['Winter', 'Summer']}, \n",
    "                    color='month',\n",
    "                    color_discrete_sequence=px.colors.qualitative.Prism + [px.colors.qualitative.Prism[2]],\n",
    "                    title_start='Monthly usage',\n",
    "                    )"
   ]
  },
  {
   "cell_type": "code",
   "execution_count": null,
   "metadata": {},
   "outputs": [],
   "source": [
    "# Plot household electricity usage by time of day, colored by weekend/weekday for different weeks and an aggregate average\n",
    "# We can see the paterns in usage on weekdays compared to weekend days\n",
    "fig = cp.clock_plot(readings, datetime_col='datetime', value_col=f'reading', \n",
    "                    filters={'fuel': 'elec', 'pre/post intervention':'Pre-intervention'}, \n",
    "                    color='weekend',\n",
    "                    line_group='week',\n",
    "                    aggregate={'weekend':'mean'},\n",
    "                    color_discrete_sequence=['red', 'blue'],\n",
    "                    title_start='Weekday/Weekend usage')"
   ]
  },
  {
   "cell_type": "code",
   "execution_count": null,
   "metadata": {},
   "outputs": [],
   "source": [
    "# Plot household energy useage by time of day in the summer for periods before and after an intervension\n",
    "# Here we see usage of both fuels is broadly similar but the schedule seems to have shifted 1 hour earlier\n",
    "fig = cp.clock_plot( readings, datetime_col=\"datetime\", value_col=\"reading\",\n",
    "                    filters={\"season\":\"Summer\"},\n",
    "                    color=\"fuel\",\n",
    "                    line_dash=\"pre/post intervention\",\n",
    "                    title_start=f'Pre/Post intervention gas and electric usage', \n",
    "                    category_orders = {\n",
    "                        \"pre/post intervention\": [\"Pre-intervention\", \"Post-intervention\"],\n",
    "                        \"fuel\": [\"gas\", \"elec\"],\n",
    "                                    })"
   ]
  },
  {
   "cell_type": "code",
   "execution_count": null,
   "metadata": {},
   "outputs": [],
   "source": [
    "# Plot household electricity usage by hour of day, colored by season (Summer or Winter)\n",
    "# with lines for each week of usage plus an aggregated average for each season\n",
    "# We can see average electricity usage doesn't change greatly from season to season\n",
    "# and while weekly usage is fairly predictable there are some outliers (week 48 for example)\n",
    "fig = cp.clock_plot(readings, datetime_col='datetime', value_col=f'reading', \n",
    "                    filters={'fuel': 'elec', 'pre/post intervention': 'Pre-intervention', 'season': ['Summer','Winter']},\n",
    "                    aggregate={'season':'mean'},\n",
    "                    color='season', \n",
    "                    line_dash='pre/post intervention',\n",
    "                    line_group='week',\n",
    "                    title_start=f'Seasonal usage', \n",
    "                    category_orders = { \"pre/post intervention\": [\"Pre-intervention\", \"Post-intervention\"]},\n",
    "                )                "
   ]
  },
  {
   "cell_type": "code",
   "execution_count": null,
   "metadata": {},
   "outputs": [],
   "source": [
    "# Load in Energy Mix Data\n",
    "n_years_offset = 10\n",
    "n_offset = 48*365*n_years_offset\n",
    "n_years = 2\n",
    "n_rows = 48*365*n_years\n",
    "url = f\"https://data.nationalgrideso.com/api/3/action/datastore_search?resource_id=f93d1835-75bc-43e5-84ad-12472b180a98&limit={n_rows}&offset={n_offset}\"\n",
    "fileobj = urllib2.urlopen(url)\n",
    "data = fileobj.read()\n",
    "datadict = json.loads(data.decode('utf-8'))\n",
    "gen_mix_raw = pd.DataFrame( datadict[\"result\"][\"records\"] )\n",
    "gen_mix_raw.head()"
   ]
  },
  {
   "cell_type": "code",
   "execution_count": null,
   "metadata": {},
   "outputs": [],
   "source": [
    "# 'Melt' the DataFrame, to get columns of 'DATETIME', 'SOURCE' and 'VALUE'\n",
    "gen_mix = gen_mix_raw.melt(id_vars = [\"DATETIME\"], value_vars = [\"GAS\",\"COAL\",\"NUCLEAR\",\"WIND\",\"HYDRO\",\"IMPORTS\",\"BIOMASS\",\"OTHER\",\"SOLAR\"])\n",
    "gen_mix.rename(columns={\"variable\":\"SOURCE\", \"value\":\"VALUE\"}, inplace=True)\n",
    "gen_mix.head()"
   ]
  },
  {
   "cell_type": "code",
   "execution_count": null,
   "metadata": {},
   "outputs": [],
   "source": [
    "# Plot the energy mix over the day, with lines colored by SOURCE and grouped such that each month gets a single line\n",
    "fig = cp.clock_plot(gen_mix, datetime_col='DATETIME', value_col='VALUE',\n",
    "                    filters={'SOURCE':['IMPORTS','WIND','SOLAR']},  \n",
    "                    color='SOURCE', \n",
    "                    line_group='month',\n",
    "                    title_start='Energy generation',\n",
    "                    color_discrete_sequence=['red', 'blue', 'green'],\n",
    "                    category_orders={ 'SOURCE': ['IMPORTS','WIND','SOLAR'] } )\n",
    "# Filters selects rows where the given column contains one of the given values\n",
    "# color_discrete_sequence defines the sequence of colors to be used in the lines of the chart\n",
    "# category_orders defines the orders in which to plot the data, this defines the colors via the discrete_color_sequence"
   ]
  },
  {
   "cell_type": "code",
   "execution_count": null,
   "metadata": {},
   "outputs": [],
   "source": [
    "# Plot the gas usage over the day, with lines colored by season and grouped such that each month gets a single line\n",
    "fig = cp.clock_plot(gen_mix, datetime_col='DATETIME', value_col='VALUE',\n",
    "                    filters={'SOURCE':'SOLAR', 'year':2019},  \n",
    "                    color='season', \n",
    "                    title_start='Energy generation',\n",
    "                    line_group='day',\n",
    "                    line_shape='linear',\n",
    "                    aggregate={'season':'mean'},\n",
    "                    bins_per_day=48 )\n",
    "# line_shape sets whether to use spline interpolation or not. (either 'spline' or 'linear')\n",
    "# aggregate sets the parameters for additional lines of aggregated data to be plotted\n",
    "# bins_per_day allows datetimes to be binned - Useful when datetimes are inconsistent or use minutes"
   ]
  }
 ],
 "metadata": {
  "interpreter": {
   "hash": "4033838f9691aafffd25b40adbfb459ea6420b83de58f7ab50fe2f79cef02652"
  },
  "kernelspec": {
   "display_name": "Python 3.9.7 64-bit ('clock': conda)",
   "language": "python",
   "name": "python3"
  },
  "language_info": {
   "codemirror_mode": {
    "name": "ipython",
    "version": 3
   },
   "file_extension": ".py",
   "mimetype": "text/x-python",
   "name": "python",
   "nbconvert_exporter": "python",
   "pygments_lexer": "ipython3",
   "version": "3.9.7"
  },
  "orig_nbformat": 4
 },
 "nbformat": 4,
 "nbformat_minor": 2
}
